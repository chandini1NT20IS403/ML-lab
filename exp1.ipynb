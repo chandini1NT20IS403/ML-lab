{
 "cells": [
  {
   "cell_type": "code",
   "execution_count": 15,
   "metadata": {},
   "outputs": [
    {
     "name": "stdout",
     "output_type": "stream",
     "text": [
      "116.42857142857143\n"
     ]
    }
   ],
   "source": [
    "#exp1\n",
    "#mean\n",
    "import math\n",
    "s=[80,90,100,120,130,145,150]\n",
    "s1=sum(s)\n",
    "l=len(s)\n",
    "m=s1/l\n",
    "print(m)"
   ]
  },
  {
   "cell_type": "markdown",
   "metadata": {},
   "source": []
  },
  {
   "cell_type": "markdown",
   "metadata": {},
   "source": [
    "# median"
   ]
  },
  {
   "cell_type": "code",
   "execution_count": 16,
   "metadata": {},
   "outputs": [
    {
     "name": "stdout",
     "output_type": "stream",
     "text": [
      "120\n"
     ]
    }
   ],
   "source": [
    "s=[80,90,100,120,130,145,150]\n",
    "l=len(s)\n",
    "low=0\n",
    "high=l([80,90,100,120,130,145,150])\n",
    "s.sort\n",
    "if(l%2==0):\n",
    "    mid=int((low+high)/2)\n",
    "    med=(s[mid]+s[(mid-1)])/2\n",
    "else:\n",
    "    mid=int((low+high)/2)\n",
    "    med=s[mid]\n",
    "print(med)"
   ]
  },
  {
   "cell_type": "markdown",
   "metadata": {},
   "source": [
    "# mode"
   ]
  },
  {
   "cell_type": "code",
   "execution_count": 19,
   "metadata": {},
   "outputs": [
    {
     "name": "stdout",
     "output_type": "stream",
     "text": [
      "no elements\n"
     ]
    }
   ],
   "source": [
    "from collections import Counter\n",
    "s=[80,90,100,120,130,145,150]\n",
    "num=len(s)\n",
    "val=Counter(s)\n",
    "findMode = dict(val)\n",
    "mode=[i for i,v in findMode.items() if v==max(list(val.values()))]\n",
    "if len(mode)==num:\n",
    "    findMode=\"no elements\"\n",
    "else:\n",
    "    findMode=\"elements are:\"+','.join(map(str,mode))\n",
    "print(findMode)    \n",
    "    "
   ]
  },
  {
   "cell_type": "markdown",
   "metadata": {},
   "source": [
    "# variance"
   ]
  },
  {
   "cell_type": "code",
   "execution_count": 21,
   "metadata": {},
   "outputs": [
    {
     "data": {
      "text/plain": [
       "633.6734693877551"
      ]
     },
     "execution_count": 21,
     "metadata": {},
     "output_type": "execute_result"
    }
   ],
   "source": [
    "def variance(data):\n",
    "    n=len(data)\n",
    "    mean=sum(data)/n\n",
    "    deviations=[(x-mean)**2 for x in data]\n",
    "    variance=sum(deviations)/n\n",
    "    return variance\n",
    "\n",
    "variance([80,90,100,120,130,145,150])"
   ]
  },
  {
   "cell_type": "markdown",
   "metadata": {},
   "source": [
    "# standard devition"
   ]
  },
  {
   "cell_type": "code",
   "execution_count": 24,
   "metadata": {},
   "outputs": [
    {
     "data": {
      "text/plain": [
       "25.172871695294422"
      ]
     },
     "execution_count": 24,
     "metadata": {},
     "output_type": "execute_result"
    }
   ],
   "source": [
    "def stdev(data):\n",
    "    var=variance(data)\n",
    "    std_dev=math.sqrt(var)\n",
    "    return std_dev\n",
    "\n",
    "stdev([80,90,100,120,130,145,150])"
   ]
  },
  {
   "cell_type": "code",
   "execution_count": null,
   "metadata": {},
   "outputs": [],
   "source": []
  }
 ],
 "metadata": {
  "kernelspec": {
   "display_name": "Python 3",
   "language": "python",
   "name": "python3"
  },
  "language_info": {
   "codemirror_mode": {
    "name": "ipython",
    "version": 3
   },
   "file_extension": ".py",
   "mimetype": "text/x-python",
   "name": "python",
   "nbconvert_exporter": "python",
   "pygments_lexer": "ipython3",
   "version": "3.7.6"
  }
 },
 "nbformat": 4,
 "nbformat_minor": 4
}
