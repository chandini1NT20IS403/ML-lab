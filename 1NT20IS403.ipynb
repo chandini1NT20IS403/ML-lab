{
 "cells": [
  {
   "cell_type": "code",
   "execution_count": 2,
   "metadata": {},
   "outputs": [
    {
     "name": "stdout",
     "output_type": "stream",
     "text": [
      "chandini\n"
     ]
    }
   ],
   "source": [
    "print(\"chandini\")"
   ]
  },
  {
   "cell_type": "code",
   "execution_count": 3,
   "metadata": {},
   "outputs": [
    {
     "name": "stdout",
     "output_type": "stream",
     "text": [
      "10\n",
      "hello world\n",
      "[10, 20, 30]\n",
      "(10, 20)\n"
     ]
    }
   ],
   "source": [
    "a=10\n",
    "print(a)\n",
    "print(\"hello world\")\n",
    "c=[10,20,30]\n",
    "print(c)\n",
    "d=(10,20)\n",
    "print(d)"
   ]
  },
  {
   "cell_type": "code",
   "execution_count": 4,
   "metadata": {},
   "outputs": [
    {
     "name": "stdout",
     "output_type": "stream",
     "text": [
      "1\n",
      "2\n",
      "3\n",
      "4\n",
      "5\n",
      "6\n",
      "7\n",
      "8\n",
      "9\n"
     ]
    }
   ],
   "source": [
    "x=1\n",
    "while x<10:\n",
    "    print(x)\n",
    "    x=x+1\n",
    "    \n",
    "    "
   ]
  },
  {
   "cell_type": "code",
   "execution_count": 6,
   "metadata": {},
   "outputs": [
    {
     "name": "stdout",
     "output_type": "stream",
     "text": [
      "A\n",
      "B\n",
      "C\n",
      "D\n"
     ]
    }
   ],
   "source": [
    "names=[\"A\",\"B\",\"C\",\"D\"]\n",
    "for x in names:\n",
    "    print(x)"
   ]
  },
  {
   "cell_type": "code",
   "execution_count": 7,
   "metadata": {},
   "outputs": [
    {
     "data": {
      "text/plain": [
       "False"
      ]
     },
     "execution_count": 7,
     "metadata": {},
     "output_type": "execute_result"
    }
   ],
   "source": [
    "str=\"123HAI\"\n",
    "str.isalnum()\n",
    "True\n",
    "st=\"123@HAI\"\n",
    "str.isalnum()\n",
    "False"
   ]
  },
  {
   "cell_type": "code",
   "execution_count": 10,
   "metadata": {},
   "outputs": [
    {
     "name": "stdout",
     "output_type": "stream",
     "text": [
      "Chandini\n",
      "1NT20IS403\n",
      "ISE\n"
     ]
    }
   ],
   "source": [
    "#dictionary\n",
    "thisdict ={\n",
    "    \"name\":\"Chandini\",\n",
    "    \"USN\":\"1NT20IS403\",\n",
    "    \"branch\":\"ISE\"\n",
    "}\n",
    "print(thisdict[\"name\"])\n",
    "print(thisdict[\"USN\"])\n",
    "print(thisdict[\"branch\"])\n"
   ]
  },
  {
   "cell_type": "code",
   "execution_count": 12,
   "metadata": {},
   "outputs": [
    {
     "name": "stdout",
     "output_type": "stream",
     "text": [
      "{'name': 'chandini', 'usn': '1nt20is403', 'branch': 'ise', 'sub': ['SPM', 'SC', 'CS', 'HAD']}\n"
     ]
    }
   ],
   "source": [
    "thisdict={\n",
    "    \"name\":\"chandini\",\n",
    "    \"usn\":\"1nt20is403\",\n",
    "    \"branch\":\"ise\",\n",
    "    \"sub\":[\"SPM\",\"SC\",\"CS\",\"HAD\"]\n",
    "}\n",
    "print(thisdict)"
   ]
  },
  {
   "cell_type": "code",
   "execution_count": 13,
   "metadata": {},
   "outputs": [
    {
     "name": "stdout",
     "output_type": "stream",
     "text": [
      "4\n"
     ]
    }
   ],
   "source": [
    "thisdict={\n",
    "    \"name\":\"chandini\",\n",
    "    \"usn\":\"1nt20is403\",\n",
    "    \"branch\":\"ise\",\n",
    "    \"sub\":[\"SPM\",\"SC\",\"CS\",\"HAD\"]\n",
    "}\n",
    "print(len(thisdict))"
   ]
  },
  {
   "cell_type": "code",
   "execution_count": 14,
   "metadata": {},
   "outputs": [
    {
     "name": "stdout",
     "output_type": "stream",
     "text": [
      "<class 'dict'>\n"
     ]
    }
   ],
   "source": [
    "thisdict = {\n",
    "    \"name\":\"chandini\",\n",
    "    \"usn\":\"1nt20is403\",\n",
    "    \"branch\":\"ise\",\n",
    "    \"sub\":[\"SPM\",\"SC\",\"CS\",\"HAD\"]\n",
    "}\n",
    "print(type(thisdict))"
   ]
  },
  {
   "cell_type": "code",
   "execution_count": 16,
   "metadata": {},
   "outputs": [
    {
     "name": "stdout",
     "output_type": "stream",
     "text": [
      "1nt20is403\n"
     ]
    }
   ],
   "source": [
    "thisdict = {\n",
    "    \"name\":\"chandini\",\n",
    "    \"usn\":\"1nt20is403\",\n",
    "    \"branch\":\"ise\",\n",
    "    \"sub\":[\"SPM\",\"SC\",\"CS\",\"HAD\"]\n",
    "}\n",
    "x=thisdict[\"usn\"]\n",
    "print(x)"
   ]
  },
  {
   "cell_type": "code",
   "execution_count": 17,
   "metadata": {},
   "outputs": [
    {
     "name": "stdout",
     "output_type": "stream",
     "text": [
      "1nt20is403\n"
     ]
    }
   ],
   "source": [
    "thisdict = {\n",
    "    \"name\":\"chandini\",\n",
    "    \"usn\":\"1nt20is403\",\n",
    "    \"branch\":\"ise\",\n",
    "    \"sub\":[\"SPM\",\"SC\",\"CS\",\"HAD\"]\n",
    "}\n",
    "x=thisdict.get(\"usn\")\n",
    "print(x)"
   ]
  },
  {
   "cell_type": "code",
   "execution_count": 18,
   "metadata": {},
   "outputs": [
    {
     "name": "stdout",
     "output_type": "stream",
     "text": [
      "dict_keys(['name', 'usn', 'branch', 'sub'])\n"
     ]
    }
   ],
   "source": [
    "thisdict = {\n",
    "    \"name\":\"chandini\",\n",
    "    \"usn\":\"1nt20is403\",\n",
    "    \"branch\":\"ise\",\n",
    "    \"sub\":[\"SPM\",\"SC\",\"CS\",\"HAD\"]\n",
    "}\n",
    "x=thisdict.keys()\n",
    "print(x)"
   ]
  },
  {
   "cell_type": "code",
   "execution_count": 21,
   "metadata": {},
   "outputs": [
    {
     "name": "stdout",
     "output_type": "stream",
     "text": [
      "dict_keys(['name', 'usn', 'branch', 'sub'])\n",
      "dict_keys(['name', 'usn', 'branch', 'sub', 'color'])\n"
     ]
    }
   ],
   "source": [
    "model = {\n",
    "    \"name\":\"chandini\",\n",
    "    \"usn\":\"1nt20is403\",\n",
    "    \"branch\":\"ise\",\n",
    "    \"sub\":[\"SPM\",\"SC\",\"CS\",\"HAD\"]\n",
    "}\n",
    "x = model.keys()\n",
    "print(x)\n",
    "model[\"color\"]=\"red\"\n",
    "print(x)"
   ]
  },
  {
   "cell_type": "code",
   "execution_count": 22,
   "metadata": {},
   "outputs": [
    {
     "name": "stdout",
     "output_type": "stream",
     "text": [
      "dict_values(['chandini', '1nt20is403', 'ise', ['SPM', 'SC', 'CS', 'HAD']])\n"
     ]
    }
   ],
   "source": [
    "thisdict = {\n",
    "    \"name\":\"chandini\",\n",
    "    \"usn\":\"1nt20is403\",\n",
    "    \"branch\":\"ise\",\n",
    "    \"sub\":[\"SPM\",\"SC\",\"CS\",\"HAD\"]\n",
    "}\n",
    "x=thisdict.values()\n",
    "print(x)"
   ]
  },
  {
   "cell_type": "code",
   "execution_count": 23,
   "metadata": {},
   "outputs": [
    {
     "name": "stdout",
     "output_type": "stream",
     "text": [
      "dict_values(['chandini', '1nt20is403', 'ise', ['SPM', 'SC', 'CS', 'HAD']])\n",
      "dict_values(['chandini', '1nt20is403', 'ise', ['SPM', 'SC', 'CS', 'HAD'], '2023'])\n"
     ]
    }
   ],
   "source": [
    "model = {\n",
    "    \"name\":\"chandini\",\n",
    "    \"usn\":\"1nt20is403\",\n",
    "    \"branch\":\"ise\",\n",
    "    \"sub\":[\"SPM\",\"SC\",\"CS\",\"HAD\"]\n",
    "}\n",
    "x = model.values()\n",
    "print(x)\n",
    "model[\"year\"]=\"2023\"\n",
    "print(x)"
   ]
  },
  {
   "cell_type": "code",
   "execution_count": 25,
   "metadata": {},
   "outputs": [
    {
     "name": "stdout",
     "output_type": "stream",
     "text": [
      "1\n",
      "2\n",
      "3\n",
      "4\n",
      "5\n"
     ]
    }
   ],
   "source": [
    "i=1\n",
    "while i<6:\n",
    "    print(i)\n",
    "    i +=1"
   ]
  },
  {
   "cell_type": "code",
   "execution_count": 26,
   "metadata": {},
   "outputs": [
    {
     "name": "stdout",
     "output_type": "stream",
     "text": [
      "True\n",
      "False\n",
      "False\n"
     ]
    }
   ],
   "source": [
    "print(10>9)\n",
    "print(10==9)\n",
    "print(10<9)"
   ]
  },
  {
   "cell_type": "code",
   "execution_count": 31,
   "metadata": {},
   "outputs": [
    {
     "name": "stdout",
     "output_type": "stream",
     "text": [
      "b is not greater than a\n"
     ]
    }
   ],
   "source": [
    "a = 200\n",
    "b = 33\n",
    "\n",
    "if b > a:\n",
    "    print(\"b is greater than a\")\n",
    "else:\n",
    "    print(\"b is not greater than a\")\n",
    "        "
   ]
  },
  {
   "cell_type": "code",
   "execution_count": 32,
   "metadata": {},
   "outputs": [
    {
     "name": "stdout",
     "output_type": "stream",
     "text": [
      "True\n",
      "True\n"
     ]
    }
   ],
   "source": [
    "print(bool(\"hello\"))\n",
    "print(bool(15))"
   ]
  },
  {
   "cell_type": "code",
   "execution_count": 33,
   "metadata": {},
   "outputs": [
    {
     "data": {
      "text/plain": [
       "True"
      ]
     },
     "execution_count": 33,
     "metadata": {},
     "output_type": "execute_result"
    }
   ],
   "source": [
    "bool(\"abc\")\n",
    "bool(123)\n",
    "bool([\"apple\",\"cherry\",\"banana\"])"
   ]
  },
  {
   "cell_type": "code",
   "execution_count": 36,
   "metadata": {},
   "outputs": [
    {
     "name": "stdout",
     "output_type": "stream",
     "text": [
      "True\n"
     ]
    }
   ],
   "source": [
    "def myFunction():\n",
    "    return True\n",
    "print(myFunction())"
   ]
  },
  {
   "cell_type": "code",
   "execution_count": 38,
   "metadata": {},
   "outputs": [
    {
     "name": "stdout",
     "output_type": "stream",
     "text": [
      "YES!\n"
     ]
    }
   ],
   "source": [
    "def myFunction():\n",
    "    return True\n",
    "if myFunction():\n",
    "    print(\"YES!\")\n",
    "else:\n",
    "    print(\"NO!\")"
   ]
  },
  {
   "cell_type": "code",
   "execution_count": null,
   "metadata": {},
   "outputs": [],
   "source": [
    "a = 300\n",
    "b = 330\n",
    "print(\"A\") if a > b else print(\"=\") if a== b else pr"
   ]
  }
 ],
 "metadata": {
  "kernelspec": {
   "display_name": "Python 3",
   "language": "python",
   "name": "python3"
  },
  "language_info": {
   "codemirror_mode": {
    "name": "ipython",
    "version": 3
   },
   "file_extension": ".py",
   "mimetype": "text/x-python",
   "name": "python",
   "nbconvert_exporter": "python",
   "pygments_lexer": "ipython3",
   "version": "3.7.6"
  }
 },
 "nbformat": 4,
 "nbformat_minor": 4
}
